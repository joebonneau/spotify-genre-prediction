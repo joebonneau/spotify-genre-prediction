{
 "cells": [
  {
   "cell_type": "markdown",
   "metadata": {},
   "source": [
    "# Imports"
   ]
  },
  {
   "cell_type": "code",
   "execution_count": 118,
   "metadata": {},
   "outputs": [],
   "source": [
    "import os\n",
    "import spotipy\n",
    "import spotipy.oauth2 as oauth2\n",
    "from spotipy.oauth2 import SpotifyClientCredentials\n",
    "import spotipy.util as util\n",
    "import pandas as pd\n",
    "import numpy as np\n",
    "import matplotlib.pyplot as plt\n",
    "import seaborn as sns\n",
    "from pprint import pprint\n",
    "\n",
    "from sklearn.model_selection import train_test_split\n",
    "from sklearn.linear_model import LogisticRegression\n",
    "from sklearn.metrics import classification_report, confusion_matrix\n",
    "from sklearn.feature_selection import RFE\n",
    "from sklearn.svm import SVC\n",
    "\n",
    "import statsmodels.api as sm\n",
    "\n",
    "SPOTIPY_CLIENT_ID = '520cdb9e1e8e401480625d095e3ad2ed'\n",
    "SPOTIPY_CLIENT_SECRET = '3541a7b1df4b47e8877d386ffe58807b'\n",
    "SPOTIPY_REDIRECT_URI = 'http://localhost:8889/callback'"
   ]
  },
  {
   "cell_type": "code",
   "execution_count": 3,
   "metadata": {},
   "outputs": [],
   "source": [
    "username = 'hp5s41fd8dkrl0mi77gwptmco'\n",
    "scope = 'playlist-modify-public'\n",
    "\n",
    "token = util.prompt_for_user_token(username,scope,\n",
    "                                   client_id= SPOTIPY_CLIENT_ID,\n",
    "                                   client_secret = SPOTIPY_CLIENT_SECRET,\n",
    "                                   redirect_uri = SPOTIPY_REDIRECT_URI)\n",
    "sp = spotipy.Spotify(auth=token)"
   ]
  },
  {
   "cell_type": "markdown",
   "metadata": {},
   "source": [
    "# Import data from Every Noise at Once playlists"
   ]
  },
  {
   "cell_type": "code",
   "execution_count": 4,
   "metadata": {},
   "outputs": [],
   "source": [
    "# The Spotify API does not provide genres for the majority of tracks and albums, so I will be using the auto-generated\n",
    "# playlists created by Every Noise at Once (everynoise.com) to populate a dataframe with information."
   ]
  },
  {
   "cell_type": "code",
   "execution_count": 5,
   "metadata": {},
   "outputs": [],
   "source": [
    "# define Spotify playlist ids\n",
    "hip_hop_playlist = '6MXkE0uYF4XwU4VTtyrpfP'\n",
    "pop_playlist = '6gS3HhOiI17QNojjPuPzqc'\n",
    "rock_playlist = '7dowgSWOmvdpwNkGFMUs6e'\n",
    "trap_playlist = '60SHtDyagDjPnUpC7x1UD9'\n",
    "edm_playlist = '3pDxuMpz94eDs7WFqudTbZ'\n",
    "\n",
    "# create empty track id lists for each playlist\n",
    "hip_hop_tracks = []\n",
    "pop_tracks = []\n",
    "rock_tracks = []\n",
    "trap_tracks = []\n",
    "edm_tracks = []\n",
    "\n",
    "# query Spotify for information about each track in each playlist (limit of 100 tracks each)\n",
    "hip_hop_info = sp.playlist_tracks(hip_hop_playlist)['items']\n",
    "pop_info = sp.playlist_tracks(pop_playlist)['items']\n",
    "rock_info = sp.playlist_tracks(rock_playlist)['items']\n",
    "trap_info = sp.playlist_tracks(trap_playlist)['items']\n",
    "edm_info = sp.playlist_tracks(edm_playlist)['items']\n",
    "\n",
    "# iterate through queries and add track ids to lists created above\n",
    "\n",
    "for idx,item in enumerate(hip_hop_info):\n",
    "    hip_hop_tracks.append(item['track']['id'])\n",
    "    \n",
    "for idx,item in enumerate(pop_info):\n",
    "    pop_tracks.append(item['track']['id'])\n",
    "    \n",
    "for idx,item in enumerate(rock_info):\n",
    "    rock_tracks.append(item['track']['id'])\n",
    "    \n",
    "for idx,item in enumerate(trap_info):\n",
    "    trap_tracks.append(item['track']['id'])\n",
    "    \n",
    "for idx,item in enumerate(edm_info):\n",
    "    edm_tracks.append(item['track']['id'])"
   ]
  },
  {
   "cell_type": "code",
   "execution_count": 6,
   "metadata": {},
   "outputs": [],
   "source": [
    "# create empty lists for each audio feature available from Spotify for each playlist\n",
    "# audio features: danceability, energy, key, loudness, mode, speechiness, acousticness, instrumentalness, liveness,\n",
    "# valence, tempo, time_signature"
   ]
  },
  {
   "cell_type": "code",
   "execution_count": 7,
   "metadata": {},
   "outputs": [],
   "source": [
    "# hip hop\n",
    "hip_hop_danceability = []\n",
    "hip_hop_energy = []\n",
    "hip_hop_key = []\n",
    "hip_hop_loudness = []\n",
    "hip_hop_mode = []\n",
    "hip_hop_speechiness = []\n",
    "hip_hop_acousticness = []\n",
    "hip_hop_instrumentalness = []\n",
    "hip_hop_liveness = []\n",
    "hip_hop_valence = []\n",
    "hip_hop_tempo = []\n",
    "hip_hop_time_signature = []\n",
    "\n",
    "# pop\n",
    "pop_danceability = []\n",
    "pop_energy = []\n",
    "pop_key = []\n",
    "pop_loudness = []\n",
    "pop_mode = []\n",
    "pop_speechiness = []\n",
    "pop_acousticness = []\n",
    "pop_instrumentalness = []\n",
    "pop_liveness = []\n",
    "pop_valence = []\n",
    "pop_tempo = []\n",
    "pop_time_signature = []\n",
    "\n",
    "# rock\n",
    "rock_danceability = []\n",
    "rock_energy = []\n",
    "rock_key = []\n",
    "rock_loudness = []\n",
    "rock_mode = []\n",
    "rock_speechiness = []\n",
    "rock_acousticness = []\n",
    "rock_instrumentalness = []\n",
    "rock_liveness = []\n",
    "rock_valence = []\n",
    "rock_tempo = []\n",
    "rock_time_signature = []\n",
    "\n",
    "# trap\n",
    "trap_danceability = []\n",
    "trap_energy = []\n",
    "trap_key = []\n",
    "trap_loudness = []\n",
    "trap_mode = []\n",
    "trap_speechiness = []\n",
    "trap_acousticness = []\n",
    "trap_instrumentalness = []\n",
    "trap_liveness = []\n",
    "trap_valence = []\n",
    "trap_tempo = []\n",
    "trap_time_signature = []\n",
    "\n",
    "# edm\n",
    "edm_danceability = []\n",
    "edm_energy = []\n",
    "edm_key = []\n",
    "edm_loudness = []\n",
    "edm_mode = []\n",
    "edm_speechiness = []\n",
    "edm_acousticness = []\n",
    "edm_instrumentalness = []\n",
    "edm_liveness = []\n",
    "edm_valence = []\n",
    "edm_tempo = []\n",
    "edm_time_signature = []"
   ]
  },
  {
   "cell_type": "code",
   "execution_count": 8,
   "metadata": {},
   "outputs": [],
   "source": [
    "# iterate through the hip hop track list and append feature values to respective lists\n",
    "hip_hop_features = sp.audio_features(hip_hop_tracks)\n",
    "for idx,id in enumerate(hip_hop_tracks):\n",
    "    hip_hop_danceability.append(hip_hop_features[idx]['danceability'])\n",
    "    hip_hop_energy.append(hip_hop_features[idx]['energy'])\n",
    "    hip_hop_key.append(hip_hop_features[idx]['key'])\n",
    "    hip_hop_loudness.append(hip_hop_features[idx]['loudness'])\n",
    "    hip_hop_mode.append(hip_hop_features[idx]['mode'])\n",
    "    hip_hop_speechiness.append(hip_hop_features[idx]['speechiness'])\n",
    "    hip_hop_acousticness.append(hip_hop_features[idx]['acousticness'])\n",
    "    hip_hop_instrumentalness.append(hip_hop_features[idx]['instrumentalness'])\n",
    "    hip_hop_liveness.append(hip_hop_features[idx]['liveness'])\n",
    "    hip_hop_valence.append(hip_hop_features[idx]['valence'])\n",
    "    hip_hop_tempo.append(hip_hop_features[idx]['tempo'])\n",
    "    hip_hop_time_signature.append(hip_hop_features[idx]['time_signature'])\n",
    "\n",
    "# iterate through the pop track list and append feature values to respective lists\n",
    "pop_features = sp.audio_features(pop_tracks)\n",
    "for idx,id in enumerate(pop_tracks):\n",
    "    pop_danceability.append(pop_features[idx]['danceability'])\n",
    "    pop_energy.append(pop_features[idx]['energy'])\n",
    "    pop_key.append(pop_features[idx]['key'])\n",
    "    pop_loudness.append(pop_features[idx]['loudness'])\n",
    "    pop_mode.append(pop_features[idx]['mode'])\n",
    "    pop_speechiness.append(pop_features[idx]['speechiness'])\n",
    "    pop_acousticness.append(pop_features[idx]['acousticness'])\n",
    "    pop_instrumentalness.append(pop_features[idx]['instrumentalness'])\n",
    "    pop_liveness.append(pop_features[idx]['liveness'])\n",
    "    pop_valence.append(pop_features[idx]['valence'])\n",
    "    pop_tempo.append(pop_features[idx]['tempo'])\n",
    "    pop_time_signature.append(pop_features[idx]['time_signature'])\n",
    "\n",
    "# iterate through the rock track list and append feature values to respective lists\n",
    "rock_features = sp.audio_features(rock_tracks)\n",
    "for idx,id in enumerate(rock_tracks):\n",
    "    rock_danceability.append(rock_features[idx]['danceability'])\n",
    "    rock_energy.append(rock_features[idx]['energy'])\n",
    "    rock_key.append(rock_features[idx]['key'])\n",
    "    rock_loudness.append(rock_features[idx]['loudness'])\n",
    "    rock_mode.append(rock_features[idx]['mode'])\n",
    "    rock_speechiness.append(rock_features[idx]['speechiness'])\n",
    "    rock_acousticness.append(rock_features[idx]['acousticness'])\n",
    "    rock_instrumentalness.append(rock_features[idx]['instrumentalness'])\n",
    "    rock_liveness.append(rock_features[idx]['liveness'])\n",
    "    rock_valence.append(rock_features[idx]['valence'])\n",
    "    rock_tempo.append(rock_features[idx]['tempo'])\n",
    "    rock_time_signature.append(rock_features[idx]['time_signature'])\n",
    "\n",
    "# iterate through the trap track list and append feature values to respective lists\n",
    "trap_features = sp.audio_features(trap_tracks)\n",
    "for idx,id in enumerate(trap_tracks):\n",
    "    trap_danceability.append(trap_features[idx]['danceability'])\n",
    "    trap_energy.append(trap_features[idx]['energy'])\n",
    "    trap_key.append(trap_features[idx]['key'])\n",
    "    trap_loudness.append(trap_features[idx]['loudness'])\n",
    "    trap_mode.append(trap_features[idx]['mode'])\n",
    "    trap_speechiness.append(trap_features[idx]['speechiness'])\n",
    "    trap_acousticness.append(trap_features[idx]['acousticness'])\n",
    "    trap_instrumentalness.append(trap_features[idx]['instrumentalness'])\n",
    "    trap_liveness.append(trap_features[idx]['liveness'])\n",
    "    trap_valence.append(trap_features[idx]['valence'])\n",
    "    trap_tempo.append(trap_features[idx]['tempo'])\n",
    "    trap_time_signature.append(trap_features[idx]['time_signature'])\n",
    "\n",
    "# iterate through the edm track list and append feature values to respective lists\n",
    "edm_features = sp.audio_features(edm_tracks)\n",
    "for idx,id in enumerate(edm_tracks):\n",
    "    edm_danceability.append(edm_features[idx]['danceability'])\n",
    "    edm_energy.append(edm_features[idx]['energy'])\n",
    "    edm_key.append(edm_features[idx]['key'])\n",
    "    edm_loudness.append(edm_features[idx]['loudness'])\n",
    "    edm_mode.append(edm_features[idx]['mode'])\n",
    "    edm_speechiness.append(edm_features[idx]['speechiness'])\n",
    "    edm_acousticness.append(edm_features[idx]['acousticness'])\n",
    "    edm_instrumentalness.append(edm_features[idx]['instrumentalness'])\n",
    "    edm_liveness.append(edm_features[idx]['liveness'])\n",
    "    edm_valence.append(edm_features[idx]['valence'])\n",
    "    edm_tempo.append(edm_features[idx]['tempo'])\n",
    "    edm_time_signature.append(edm_features[idx]['time_signature'])"
   ]
  },
  {
   "cell_type": "code",
   "execution_count": 57,
   "metadata": {},
   "outputs": [],
   "source": [
    "hip_hop_df = pd.DataFrame(data=zip(hip_hop_danceability,\n",
    "                                   hip_hop_energy,\n",
    "                                   hip_hop_key,\n",
    "                                   hip_hop_loudness,\n",
    "                                   hip_hop_mode,\n",
    "                                   hip_hop_speechiness,\n",
    "                                   hip_hop_acousticness,\n",
    "                                   hip_hop_instrumentalness,\n",
    "                                   hip_hop_liveness,\n",
    "                                   hip_hop_valence,\n",
    "                                   hip_hop_tempo,\n",
    "                                   hip_hop_time_signature),\n",
    "                         index=hip_hop_tracks,\n",
    "                         columns=['danceability',\n",
    "                                  'energy',\n",
    "                                  'key',\n",
    "                                  'loudness',\n",
    "                                  'mode',\n",
    "                                  'speechiness',\n",
    "                                  'acousticness',\n",
    "                                  'instrumentalness',\n",
    "                                  'liveness',\n",
    "                                  'valence',\n",
    "                                  'tempo',\n",
    "                                  'time_signature'])\n",
    "hip_hop_df['genre'] = 'hip hop'"
   ]
  },
  {
   "cell_type": "code",
   "execution_count": 58,
   "metadata": {},
   "outputs": [],
   "source": [
    "pop_df = pd.DataFrame(data=zip(pop_danceability,\n",
    "                                   pop_energy,\n",
    "                                   pop_key,\n",
    "                                   pop_loudness,\n",
    "                                   pop_mode,\n",
    "                                   pop_speechiness,\n",
    "                                   pop_acousticness,\n",
    "                                   pop_instrumentalness,\n",
    "                                   pop_liveness,\n",
    "                                   pop_valence,\n",
    "                                   pop_tempo,\n",
    "                                   pop_time_signature),\n",
    "                         index=pop_tracks,\n",
    "                         columns=['danceability',\n",
    "                                  'energy',\n",
    "                                  'key',\n",
    "                                  'loudness',\n",
    "                                  'mode',\n",
    "                                  'speechiness',\n",
    "                                  'acousticness',\n",
    "                                  'instrumentalness',\n",
    "                                  'liveness',\n",
    "                                  'valence',\n",
    "                                  'tempo',\n",
    "                                  'time_signature'])\n",
    "pop_df['genre'] = 'pop'"
   ]
  },
  {
   "cell_type": "code",
   "execution_count": 59,
   "metadata": {},
   "outputs": [],
   "source": [
    "rock_df = pd.DataFrame(data=zip(rock_danceability,\n",
    "                                   rock_energy,\n",
    "                                   rock_key,\n",
    "                                   rock_loudness,\n",
    "                                   rock_mode,\n",
    "                                   rock_speechiness,\n",
    "                                   rock_acousticness,\n",
    "                                   rock_instrumentalness,\n",
    "                                   rock_liveness,\n",
    "                                   rock_valence,\n",
    "                                   rock_tempo,\n",
    "                                   rock_time_signature),\n",
    "                         index=rock_tracks,\n",
    "                         columns=['danceability',\n",
    "                                  'energy',\n",
    "                                  'key',\n",
    "                                  'loudness',\n",
    "                                  'mode',\n",
    "                                  'speechiness',\n",
    "                                  'acousticness',\n",
    "                                  'instrumentalness',\n",
    "                                  'liveness',\n",
    "                                  'valence',\n",
    "                                  'tempo',\n",
    "                                  'time_signature'])\n",
    "rock_df['genre'] = 'rock'"
   ]
  },
  {
   "cell_type": "code",
   "execution_count": 60,
   "metadata": {},
   "outputs": [],
   "source": [
    "trap_df = pd.DataFrame(data=zip(trap_danceability,\n",
    "                                   trap_energy,\n",
    "                                   trap_key,\n",
    "                                   trap_loudness,\n",
    "                                   trap_mode,\n",
    "                                   trap_speechiness,\n",
    "                                   trap_acousticness,\n",
    "                                   trap_instrumentalness,\n",
    "                                   trap_liveness,\n",
    "                                   trap_valence,\n",
    "                                   trap_tempo,\n",
    "                                   trap_time_signature),\n",
    "                         index=trap_tracks,\n",
    "                         columns=['danceability',\n",
    "                                  'energy',\n",
    "                                  'key',\n",
    "                                  'loudness',\n",
    "                                  'mode',\n",
    "                                  'speechiness',\n",
    "                                  'acousticness',\n",
    "                                  'instrumentalness',\n",
    "                                  'liveness',\n",
    "                                  'valence',\n",
    "                                  'tempo',\n",
    "                                  'time_signature'])\n",
    "trap_df['genre'] = 'trap'"
   ]
  },
  {
   "cell_type": "code",
   "execution_count": 61,
   "metadata": {},
   "outputs": [],
   "source": [
    "edm_df = pd.DataFrame(data=zip(edm_danceability,\n",
    "                                   edm_energy,\n",
    "                                   edm_key,\n",
    "                                   edm_loudness,\n",
    "                                   edm_mode,\n",
    "                                   edm_speechiness,\n",
    "                                   edm_acousticness,\n",
    "                                   edm_instrumentalness,\n",
    "                                   edm_liveness,\n",
    "                                   edm_valence,\n",
    "                                   edm_tempo,\n",
    "                                   edm_time_signature),\n",
    "                         index=edm_tracks,\n",
    "                         columns=['danceability',\n",
    "                                  'energy',\n",
    "                                  'key',\n",
    "                                  'loudness',\n",
    "                                  'mode',\n",
    "                                  'speechiness',\n",
    "                                  'acousticness',\n",
    "                                  'instrumentalness',\n",
    "                                  'liveness',\n",
    "                                  'valence',\n",
    "                                  'tempo',\n",
    "                                  'time_signature'])\n",
    "edm_df['genre'] = 'edm'"
   ]
  },
  {
   "cell_type": "code",
   "execution_count": 62,
   "metadata": {},
   "outputs": [],
   "source": [
    "combined_df = pd.concat(objs=[hip_hop_df,pop_df,rock_df,trap_df,edm_df],\n",
    "                        sort=False)"
   ]
  },
  {
   "cell_type": "code",
   "execution_count": 63,
   "metadata": {},
   "outputs": [],
   "source": [
    "combined_df = combined_df.replace(to_replace=np.nan, value=0)\n",
    "combined_df = combined_df.rename_axis('track_id')"
   ]
  },
  {
   "cell_type": "code",
   "execution_count": 66,
   "metadata": {},
   "outputs": [
    {
     "data": {
      "text/html": [
       "<div>\n",
       "<style scoped>\n",
       "    .dataframe tbody tr th:only-of-type {\n",
       "        vertical-align: middle;\n",
       "    }\n",
       "\n",
       "    .dataframe tbody tr th {\n",
       "        vertical-align: top;\n",
       "    }\n",
       "\n",
       "    .dataframe thead th {\n",
       "        text-align: right;\n",
       "    }\n",
       "</style>\n",
       "<table border=\"1\" class=\"dataframe\">\n",
       "  <thead>\n",
       "    <tr style=\"text-align: right;\">\n",
       "      <th></th>\n",
       "      <th>danceability</th>\n",
       "      <th>energy</th>\n",
       "      <th>key</th>\n",
       "      <th>loudness</th>\n",
       "      <th>mode</th>\n",
       "      <th>speechiness</th>\n",
       "      <th>acousticness</th>\n",
       "      <th>instrumentalness</th>\n",
       "      <th>liveness</th>\n",
       "      <th>valence</th>\n",
       "      <th>tempo</th>\n",
       "      <th>time_signature</th>\n",
       "      <th>genre</th>\n",
       "    </tr>\n",
       "    <tr>\n",
       "      <th>track_id</th>\n",
       "      <th></th>\n",
       "      <th></th>\n",
       "      <th></th>\n",
       "      <th></th>\n",
       "      <th></th>\n",
       "      <th></th>\n",
       "      <th></th>\n",
       "      <th></th>\n",
       "      <th></th>\n",
       "      <th></th>\n",
       "      <th></th>\n",
       "      <th></th>\n",
       "      <th></th>\n",
       "    </tr>\n",
       "  </thead>\n",
       "  <tbody>\n",
       "    <tr>\n",
       "      <td>3Ti0GdlrotgwsAVBBugv0I</td>\n",
       "      <td>0.848</td>\n",
       "      <td>0.666</td>\n",
       "      <td>0</td>\n",
       "      <td>-6.547</td>\n",
       "      <td>1</td>\n",
       "      <td>0.274</td>\n",
       "      <td>0.17300</td>\n",
       "      <td>0.000699</td>\n",
       "      <td>0.1290</td>\n",
       "      <td>0.744</td>\n",
       "      <td>96.662</td>\n",
       "      <td>4</td>\n",
       "      <td>hip hop</td>\n",
       "    </tr>\n",
       "    <tr>\n",
       "      <td>1w29UTa5uUvIri2tWtZ12Y</td>\n",
       "      <td>0.862</td>\n",
       "      <td>0.642</td>\n",
       "      <td>6</td>\n",
       "      <td>-13.652</td>\n",
       "      <td>0</td>\n",
       "      <td>0.101</td>\n",
       "      <td>0.10200</td>\n",
       "      <td>0.000000</td>\n",
       "      <td>0.2720</td>\n",
       "      <td>0.765</td>\n",
       "      <td>99.201</td>\n",
       "      <td>4</td>\n",
       "      <td>hip hop</td>\n",
       "    </tr>\n",
       "    <tr>\n",
       "      <td>0IVAlb0cFCH1cQ974iR1TU</td>\n",
       "      <td>0.782</td>\n",
       "      <td>0.589</td>\n",
       "      <td>1</td>\n",
       "      <td>-4.827</td>\n",
       "      <td>1</td>\n",
       "      <td>0.189</td>\n",
       "      <td>0.14800</td>\n",
       "      <td>0.000000</td>\n",
       "      <td>0.1640</td>\n",
       "      <td>0.869</td>\n",
       "      <td>90.438</td>\n",
       "      <td>4</td>\n",
       "      <td>hip hop</td>\n",
       "    </tr>\n",
       "    <tr>\n",
       "      <td>48ZUwXrEOhaXLCxvmRYhZv</td>\n",
       "      <td>0.737</td>\n",
       "      <td>0.890</td>\n",
       "      <td>4</td>\n",
       "      <td>-8.443</td>\n",
       "      <td>1</td>\n",
       "      <td>0.158</td>\n",
       "      <td>0.00556</td>\n",
       "      <td>0.001710</td>\n",
       "      <td>0.0801</td>\n",
       "      <td>0.809</td>\n",
       "      <td>105.848</td>\n",
       "      <td>4</td>\n",
       "      <td>hip hop</td>\n",
       "    </tr>\n",
       "    <tr>\n",
       "      <td>30oTS7bm0aH3p7lqjEIu8q</td>\n",
       "      <td>0.875</td>\n",
       "      <td>0.745</td>\n",
       "      <td>1</td>\n",
       "      <td>-5.878</td>\n",
       "      <td>1</td>\n",
       "      <td>0.269</td>\n",
       "      <td>0.02270</td>\n",
       "      <td>0.000002</td>\n",
       "      <td>0.2870</td>\n",
       "      <td>0.749</td>\n",
       "      <td>95.201</td>\n",
       "      <td>4</td>\n",
       "      <td>hip hop</td>\n",
       "    </tr>\n",
       "  </tbody>\n",
       "</table>\n",
       "</div>"
      ],
      "text/plain": [
       "                        danceability  energy  key  loudness  mode  \\\n",
       "track_id                                                            \n",
       "3Ti0GdlrotgwsAVBBugv0I         0.848   0.666    0    -6.547     1   \n",
       "1w29UTa5uUvIri2tWtZ12Y         0.862   0.642    6   -13.652     0   \n",
       "0IVAlb0cFCH1cQ974iR1TU         0.782   0.589    1    -4.827     1   \n",
       "48ZUwXrEOhaXLCxvmRYhZv         0.737   0.890    4    -8.443     1   \n",
       "30oTS7bm0aH3p7lqjEIu8q         0.875   0.745    1    -5.878     1   \n",
       "\n",
       "                        speechiness  acousticness  instrumentalness  liveness  \\\n",
       "track_id                                                                        \n",
       "3Ti0GdlrotgwsAVBBugv0I        0.274       0.17300          0.000699    0.1290   \n",
       "1w29UTa5uUvIri2tWtZ12Y        0.101       0.10200          0.000000    0.2720   \n",
       "0IVAlb0cFCH1cQ974iR1TU        0.189       0.14800          0.000000    0.1640   \n",
       "48ZUwXrEOhaXLCxvmRYhZv        0.158       0.00556          0.001710    0.0801   \n",
       "30oTS7bm0aH3p7lqjEIu8q        0.269       0.02270          0.000002    0.2870   \n",
       "\n",
       "                        valence    tempo  time_signature    genre  \n",
       "track_id                                                           \n",
       "3Ti0GdlrotgwsAVBBugv0I    0.744   96.662               4  hip hop  \n",
       "1w29UTa5uUvIri2tWtZ12Y    0.765   99.201               4  hip hop  \n",
       "0IVAlb0cFCH1cQ974iR1TU    0.869   90.438               4  hip hop  \n",
       "48ZUwXrEOhaXLCxvmRYhZv    0.809  105.848               4  hip hop  \n",
       "30oTS7bm0aH3p7lqjEIu8q    0.749   95.201               4  hip hop  "
      ]
     },
     "execution_count": 66,
     "metadata": {},
     "output_type": "execute_result"
    }
   ],
   "source": [
    "combined_df.head()"
   ]
  },
  {
   "cell_type": "markdown",
   "metadata": {},
   "source": [
    "# Exploratory Analysis"
   ]
  },
  {
   "cell_type": "code",
   "execution_count": 67,
   "metadata": {},
   "outputs": [
    {
     "data": {
      "text/html": [
       "<div>\n",
       "<style scoped>\n",
       "    .dataframe tbody tr th:only-of-type {\n",
       "        vertical-align: middle;\n",
       "    }\n",
       "\n",
       "    .dataframe tbody tr th {\n",
       "        vertical-align: top;\n",
       "    }\n",
       "\n",
       "    .dataframe thead th {\n",
       "        text-align: right;\n",
       "    }\n",
       "</style>\n",
       "<table border=\"1\" class=\"dataframe\">\n",
       "  <thead>\n",
       "    <tr style=\"text-align: right;\">\n",
       "      <th></th>\n",
       "      <th>danceability</th>\n",
       "      <th>energy</th>\n",
       "      <th>key</th>\n",
       "      <th>loudness</th>\n",
       "      <th>mode</th>\n",
       "      <th>speechiness</th>\n",
       "      <th>acousticness</th>\n",
       "      <th>instrumentalness</th>\n",
       "      <th>liveness</th>\n",
       "      <th>valence</th>\n",
       "      <th>tempo</th>\n",
       "      <th>time_signature</th>\n",
       "    </tr>\n",
       "  </thead>\n",
       "  <tbody>\n",
       "    <tr>\n",
       "      <td>count</td>\n",
       "      <td>500.000000</td>\n",
       "      <td>500.000000</td>\n",
       "      <td>500.000000</td>\n",
       "      <td>500.000000</td>\n",
       "      <td>500.000000</td>\n",
       "      <td>500.000000</td>\n",
       "      <td>500.000000</td>\n",
       "      <td>500.000000</td>\n",
       "      <td>500.000000</td>\n",
       "      <td>500.000000</td>\n",
       "      <td>500.000000</td>\n",
       "      <td>500.000000</td>\n",
       "    </tr>\n",
       "    <tr>\n",
       "      <td>mean</td>\n",
       "      <td>0.671658</td>\n",
       "      <td>0.690258</td>\n",
       "      <td>5.482000</td>\n",
       "      <td>-6.716668</td>\n",
       "      <td>0.590000</td>\n",
       "      <td>0.128858</td>\n",
       "      <td>0.132812</td>\n",
       "      <td>0.034743</td>\n",
       "      <td>0.186422</td>\n",
       "      <td>0.541810</td>\n",
       "      <td>120.234506</td>\n",
       "      <td>3.980000</td>\n",
       "    </tr>\n",
       "    <tr>\n",
       "      <td>std</td>\n",
       "      <td>0.159110</td>\n",
       "      <td>0.162850</td>\n",
       "      <td>3.613279</td>\n",
       "      <td>2.819912</td>\n",
       "      <td>0.492326</td>\n",
       "      <td>0.105842</td>\n",
       "      <td>0.174872</td>\n",
       "      <td>0.145452</td>\n",
       "      <td>0.154262</td>\n",
       "      <td>0.226796</td>\n",
       "      <td>26.631779</td>\n",
       "      <td>0.199197</td>\n",
       "    </tr>\n",
       "    <tr>\n",
       "      <td>min</td>\n",
       "      <td>0.215000</td>\n",
       "      <td>0.107000</td>\n",
       "      <td>0.000000</td>\n",
       "      <td>-18.943000</td>\n",
       "      <td>0.000000</td>\n",
       "      <td>0.024700</td>\n",
       "      <td>0.000005</td>\n",
       "      <td>0.000000</td>\n",
       "      <td>0.023400</td>\n",
       "      <td>0.066300</td>\n",
       "      <td>56.046000</td>\n",
       "      <td>1.000000</td>\n",
       "    </tr>\n",
       "    <tr>\n",
       "      <td>25%</td>\n",
       "      <td>0.568500</td>\n",
       "      <td>0.583750</td>\n",
       "      <td>2.000000</td>\n",
       "      <td>-8.150250</td>\n",
       "      <td>0.000000</td>\n",
       "      <td>0.043000</td>\n",
       "      <td>0.015075</td>\n",
       "      <td>0.000000</td>\n",
       "      <td>0.088700</td>\n",
       "      <td>0.367750</td>\n",
       "      <td>98.244750</td>\n",
       "      <td>4.000000</td>\n",
       "    </tr>\n",
       "    <tr>\n",
       "      <td>50%</td>\n",
       "      <td>0.696500</td>\n",
       "      <td>0.693000</td>\n",
       "      <td>6.000000</td>\n",
       "      <td>-6.193000</td>\n",
       "      <td>1.000000</td>\n",
       "      <td>0.080250</td>\n",
       "      <td>0.056400</td>\n",
       "      <td>0.000002</td>\n",
       "      <td>0.122000</td>\n",
       "      <td>0.545500</td>\n",
       "      <td>121.020000</td>\n",
       "      <td>4.000000</td>\n",
       "    </tr>\n",
       "    <tr>\n",
       "      <td>75%</td>\n",
       "      <td>0.791500</td>\n",
       "      <td>0.819250</td>\n",
       "      <td>9.000000</td>\n",
       "      <td>-4.799750</td>\n",
       "      <td>1.000000</td>\n",
       "      <td>0.209250</td>\n",
       "      <td>0.179500</td>\n",
       "      <td>0.000447</td>\n",
       "      <td>0.235000</td>\n",
       "      <td>0.724750</td>\n",
       "      <td>136.008750</td>\n",
       "      <td>4.000000</td>\n",
       "    </tr>\n",
       "    <tr>\n",
       "      <td>max</td>\n",
       "      <td>0.970000</td>\n",
       "      <td>0.990000</td>\n",
       "      <td>11.000000</td>\n",
       "      <td>-1.501000</td>\n",
       "      <td>1.000000</td>\n",
       "      <td>0.399000</td>\n",
       "      <td>0.911000</td>\n",
       "      <td>0.944000</td>\n",
       "      <td>0.918000</td>\n",
       "      <td>0.967000</td>\n",
       "      <td>191.692000</td>\n",
       "      <td>5.000000</td>\n",
       "    </tr>\n",
       "  </tbody>\n",
       "</table>\n",
       "</div>"
      ],
      "text/plain": [
       "       danceability      energy         key    loudness        mode  \\\n",
       "count    500.000000  500.000000  500.000000  500.000000  500.000000   \n",
       "mean       0.671658    0.690258    5.482000   -6.716668    0.590000   \n",
       "std        0.159110    0.162850    3.613279    2.819912    0.492326   \n",
       "min        0.215000    0.107000    0.000000  -18.943000    0.000000   \n",
       "25%        0.568500    0.583750    2.000000   -8.150250    0.000000   \n",
       "50%        0.696500    0.693000    6.000000   -6.193000    1.000000   \n",
       "75%        0.791500    0.819250    9.000000   -4.799750    1.000000   \n",
       "max        0.970000    0.990000   11.000000   -1.501000    1.000000   \n",
       "\n",
       "       speechiness  acousticness  instrumentalness    liveness     valence  \\\n",
       "count   500.000000    500.000000        500.000000  500.000000  500.000000   \n",
       "mean      0.128858      0.132812          0.034743    0.186422    0.541810   \n",
       "std       0.105842      0.174872          0.145452    0.154262    0.226796   \n",
       "min       0.024700      0.000005          0.000000    0.023400    0.066300   \n",
       "25%       0.043000      0.015075          0.000000    0.088700    0.367750   \n",
       "50%       0.080250      0.056400          0.000002    0.122000    0.545500   \n",
       "75%       0.209250      0.179500          0.000447    0.235000    0.724750   \n",
       "max       0.399000      0.911000          0.944000    0.918000    0.967000   \n",
       "\n",
       "            tempo  time_signature  \n",
       "count  500.000000      500.000000  \n",
       "mean   120.234506        3.980000  \n",
       "std     26.631779        0.199197  \n",
       "min     56.046000        1.000000  \n",
       "25%     98.244750        4.000000  \n",
       "50%    121.020000        4.000000  \n",
       "75%    136.008750        4.000000  \n",
       "max    191.692000        5.000000  "
      ]
     },
     "execution_count": 67,
     "metadata": {},
     "output_type": "execute_result"
    }
   ],
   "source": [
    "combined_df.describe()"
   ]
  },
  {
   "cell_type": "code",
   "execution_count": 68,
   "metadata": {},
   "outputs": [
    {
     "data": {
      "text/plain": [
       "<matplotlib.axes._subplots.AxesSubplot at 0x2c2b8f70048>"
      ]
     },
     "execution_count": 68,
     "metadata": {},
     "output_type": "execute_result"
    },
    {
     "data": {
      "image/png": "[encoded data removed]",
      "text/plain": [
       "<Figure size 720x504 with 2 Axes>"
      ]
     },
     "metadata": {
      "needs_background": "light"
     },
     "output_type": "display_data"
    }
   ],
   "source": [
    "plt.figure(figsize=(10,7))\n",
    "sns.heatmap(combined_df_corr)"
   ]
  },
  {
   "cell_type": "code",
   "execution_count": 33,
   "metadata": {},
   "outputs": [
    {
     "data": {
      "text/plain": [
       "<matplotlib.axes._subplots.AxesSubplot at 0x2c2b6eac5c8>"
      ]
     },
     "execution_count": 33,
     "metadata": {},
     "output_type": "execute_result"
    },
    {
     "data": {
      "image/png": "[encoded data removed]",
      "text/plain": [
       "<Figure size 432x288 with 1 Axes>"
      ]
     },
     "metadata": {
      "needs_background": "light"
     },
     "output_type": "display_data"
    }
   ],
   "source": [
    "sns.distplot(combined_df['danceability'])"
   ]
  },
  {
   "cell_type": "code",
   "execution_count": 34,
   "metadata": {},
   "outputs": [
    {
     "data": {
      "text/plain": [
       "<matplotlib.axes._subplots.AxesSubplot at 0x2c2b4d6a548>"
      ]
     },
     "execution_count": 34,
     "metadata": {},
     "output_type": "execute_result"
    },
    {
     "data": {
      "image/png": "[encoded data removed]",
      "text/plain": [
       "<Figure size 432x288 with 1 Axes>"
      ]
     },
     "metadata": {
      "needs_background": "light"
     },
     "output_type": "display_data"
    }
   ],
   "source": [
    "sns.distplot(combined_df['energy'])"
   ]
  },
  {
   "cell_type": "code",
   "execution_count": 35,
   "metadata": {},
   "outputs": [
    {
     "data": {
      "text/plain": [
       "<matplotlib.axes._subplots.AxesSubplot at 0x2c2b6e9e648>"
      ]
     },
     "execution_count": 35,
     "metadata": {},
     "output_type": "execute_result"
    },
    {
     "data": {
      "image/png": "[encoded data removed]",
      "text/plain": [
       "<Figure size 432x288 with 1 Axes>"
      ]
     },
     "metadata": {
      "needs_background": "light"
     },
     "output_type": "display_data"
    }
   ],
   "source": [
    "sns.distplot(combined_df['loudness'])"
   ]
  },
  {
   "cell_type": "code",
   "execution_count": 36,
   "metadata": {},
   "outputs": [
    {
     "data": {
      "text/plain": [
       "<matplotlib.axes._subplots.AxesSubplot at 0x2c2b700ac88>"
      ]
     },
     "execution_count": 36,
     "metadata": {},
     "output_type": "execute_result"
    },
    {
     "data": {
      "image/png": "[encoded data removed]",
      "text/plain": [
       "<Figure size 432x288 with 1 Axes>"
      ]
     },
     "metadata": {
      "needs_background": "light"
     },
     "output_type": "display_data"
    }
   ],
   "source": [
    "sns.distplot(combined_df['speechiness'])"
   ]
  },
  {
   "cell_type": "code",
   "execution_count": 37,
   "metadata": {},
   "outputs": [
    {
     "data": {
      "text/plain": [
       "<matplotlib.axes._subplots.AxesSubplot at 0x2c2b7140208>"
      ]
     },
     "execution_count": 37,
     "metadata": {},
     "output_type": "execute_result"
    },
    {
     "data": {
      "image/png": "[encoded data removed]",
      "text/plain": [
       "<Figure size 432x288 with 1 Axes>"
      ]
     },
     "metadata": {
      "needs_background": "light"
     },
     "output_type": "display_data"
    }
   ],
   "source": [
    "sns.distplot(combined_df['acousticness'])"
   ]
  },
  {
   "cell_type": "code",
   "execution_count": 38,
   "metadata": {},
   "outputs": [
    {
     "data": {
      "text/plain": [
       "<matplotlib.axes._subplots.AxesSubplot at 0x2c2b71da948>"
      ]
     },
     "execution_count": 38,
     "metadata": {},
     "output_type": "execute_result"
    },
    {
     "data": {
      "image/png": "[encoded data removed]",
      "text/plain": [
       "<Figure size 432x288 with 1 Axes>"
      ]
     },
     "metadata": {
      "needs_background": "light"
     },
     "output_type": "display_data"
    }
   ],
   "source": [
    "sns.distplot(combined_df['instrumentalness'])"
   ]
  },
  {
   "cell_type": "code",
   "execution_count": 39,
   "metadata": {},
   "outputs": [
    {
     "data": {
      "text/plain": [
       "<matplotlib.axes._subplots.AxesSubplot at 0x2c2b71dd308>"
      ]
     },
     "execution_count": 39,
     "metadata": {},
     "output_type": "execute_result"
    },
    {
     "data": {
      "image/png": "[encoded data removed]",
      "text/plain": [
       "<Figure size 432x288 with 1 Axes>"
      ]
     },
     "metadata": {
      "needs_background": "light"
     },
     "output_type": "display_data"
    }
   ],
   "source": [
    "sns.distplot(combined_df['valence'])"
   ]
  },
  {
   "cell_type": "code",
   "execution_count": 40,
   "metadata": {},
   "outputs": [
    {
     "data": {
      "text/plain": [
       "<matplotlib.axes._subplots.AxesSubplot at 0x2c2b7145208>"
      ]
     },
     "execution_count": 40,
     "metadata": {},
     "output_type": "execute_result"
    },
    {
     "data": {
      "image/png": "[encoded data removed]",
      "text/plain": [
       "<Figure size 432x288 with 1 Axes>"
      ]
     },
     "metadata": {
      "needs_background": "light"
     },
     "output_type": "display_data"
    }
   ],
   "source": [
    "sns.distplot(combined_df['tempo'])"
   ]
  },
  {
   "cell_type": "markdown",
   "metadata": {},
   "source": [
    "# Let's try a logistic regression model to predict whether a song is hip hop or not"
   ]
  },
  {
   "cell_type": "code",
   "execution_count": 69,
   "metadata": {
    "scrolled": true
   },
   "outputs": [
    {
     "data": {
      "text/plain": [
       "Index(['danceability', 'energy', 'key', 'loudness', 'mode', 'speechiness',\n",
       "       'acousticness', 'instrumentalness', 'liveness', 'valence', 'tempo',\n",
       "       'time_signature', 'genre'],\n",
       "      dtype='object')"
      ]
     },
     "execution_count": 69,
     "metadata": {},
     "output_type": "execute_result"
    }
   ],
   "source": [
    "combined_df.columns"
   ]
  },
  {
   "cell_type": "code",
   "execution_count": 70,
   "metadata": {},
   "outputs": [],
   "source": [
    "# create binary columns for each genre for use in the model\n",
    "genre = pd.get_dummies(combined_df['genre'])\n",
    "\n",
    "# concatenate the dummy variables into the main table\n",
    "combined_df = pd.concat([combined_df,genre],axis=1)"
   ]
  },
  {
   "cell_type": "code",
   "execution_count": 71,
   "metadata": {},
   "outputs": [
    {
     "data": {
      "text/html": [
       "<div>\n",
       "<style scoped>\n",
       "    .dataframe tbody tr th:only-of-type {\n",
       "        vertical-align: middle;\n",
       "    }\n",
       "\n",
       "    .dataframe tbody tr th {\n",
       "        vertical-align: top;\n",
       "    }\n",
       "\n",
       "    .dataframe thead th {\n",
       "        text-align: right;\n",
       "    }\n",
       "</style>\n",
       "<table border=\"1\" class=\"dataframe\">\n",
       "  <thead>\n",
       "    <tr style=\"text-align: right;\">\n",
       "      <th></th>\n",
       "      <th>danceability</th>\n",
       "      <th>energy</th>\n",
       "      <th>key</th>\n",
       "      <th>loudness</th>\n",
       "      <th>mode</th>\n",
       "      <th>speechiness</th>\n",
       "      <th>acousticness</th>\n",
       "      <th>instrumentalness</th>\n",
       "      <th>liveness</th>\n",
       "      <th>valence</th>\n",
       "      <th>tempo</th>\n",
       "      <th>time_signature</th>\n",
       "      <th>genre</th>\n",
       "      <th>edm</th>\n",
       "      <th>hip hop</th>\n",
       "      <th>pop</th>\n",
       "      <th>rock</th>\n",
       "      <th>trap</th>\n",
       "    </tr>\n",
       "    <tr>\n",
       "      <th>track_id</th>\n",
       "      <th></th>\n",
       "      <th></th>\n",
       "      <th></th>\n",
       "      <th></th>\n",
       "      <th></th>\n",
       "      <th></th>\n",
       "      <th></th>\n",
       "      <th></th>\n",
       "      <th></th>\n",
       "      <th></th>\n",
       "      <th></th>\n",
       "      <th></th>\n",
       "      <th></th>\n",
       "      <th></th>\n",
       "      <th></th>\n",
       "      <th></th>\n",
       "      <th></th>\n",
       "      <th></th>\n",
       "    </tr>\n",
       "  </thead>\n",
       "  <tbody>\n",
       "    <tr>\n",
       "      <td>3Ti0GdlrotgwsAVBBugv0I</td>\n",
       "      <td>0.848</td>\n",
       "      <td>0.666</td>\n",
       "      <td>0</td>\n",
       "      <td>-6.547</td>\n",
       "      <td>1</td>\n",
       "      <td>0.274</td>\n",
       "      <td>0.17300</td>\n",
       "      <td>0.000699</td>\n",
       "      <td>0.1290</td>\n",
       "      <td>0.744</td>\n",
       "      <td>96.662</td>\n",
       "      <td>4</td>\n",
       "      <td>hip hop</td>\n",
       "      <td>0</td>\n",
       "      <td>1</td>\n",
       "      <td>0</td>\n",
       "      <td>0</td>\n",
       "      <td>0</td>\n",
       "    </tr>\n",
       "    <tr>\n",
       "      <td>1w29UTa5uUvIri2tWtZ12Y</td>\n",
       "      <td>0.862</td>\n",
       "      <td>0.642</td>\n",
       "      <td>6</td>\n",
       "      <td>-13.652</td>\n",
       "      <td>0</td>\n",
       "      <td>0.101</td>\n",
       "      <td>0.10200</td>\n",
       "      <td>0.000000</td>\n",
       "      <td>0.2720</td>\n",
       "      <td>0.765</td>\n",
       "      <td>99.201</td>\n",
       "      <td>4</td>\n",
       "      <td>hip hop</td>\n",
       "      <td>0</td>\n",
       "      <td>1</td>\n",
       "      <td>0</td>\n",
       "      <td>0</td>\n",
       "      <td>0</td>\n",
       "    </tr>\n",
       "    <tr>\n",
       "      <td>0IVAlb0cFCH1cQ974iR1TU</td>\n",
       "      <td>0.782</td>\n",
       "      <td>0.589</td>\n",
       "      <td>1</td>\n",
       "      <td>-4.827</td>\n",
       "      <td>1</td>\n",
       "      <td>0.189</td>\n",
       "      <td>0.14800</td>\n",
       "      <td>0.000000</td>\n",
       "      <td>0.1640</td>\n",
       "      <td>0.869</td>\n",
       "      <td>90.438</td>\n",
       "      <td>4</td>\n",
       "      <td>hip hop</td>\n",
       "      <td>0</td>\n",
       "      <td>1</td>\n",
       "      <td>0</td>\n",
       "      <td>0</td>\n",
       "      <td>0</td>\n",
       "    </tr>\n",
       "    <tr>\n",
       "      <td>48ZUwXrEOhaXLCxvmRYhZv</td>\n",
       "      <td>0.737</td>\n",
       "      <td>0.890</td>\n",
       "      <td>4</td>\n",
       "      <td>-8.443</td>\n",
       "      <td>1</td>\n",
       "      <td>0.158</td>\n",
       "      <td>0.00556</td>\n",
       "      <td>0.001710</td>\n",
       "      <td>0.0801</td>\n",
       "      <td>0.809</td>\n",
       "      <td>105.848</td>\n",
       "      <td>4</td>\n",
       "      <td>hip hop</td>\n",
       "      <td>0</td>\n",
       "      <td>1</td>\n",
       "      <td>0</td>\n",
       "      <td>0</td>\n",
       "      <td>0</td>\n",
       "    </tr>\n",
       "    <tr>\n",
       "      <td>30oTS7bm0aH3p7lqjEIu8q</td>\n",
       "      <td>0.875</td>\n",
       "      <td>0.745</td>\n",
       "      <td>1</td>\n",
       "      <td>-5.878</td>\n",
       "      <td>1</td>\n",
       "      <td>0.269</td>\n",
       "      <td>0.02270</td>\n",
       "      <td>0.000002</td>\n",
       "      <td>0.2870</td>\n",
       "      <td>0.749</td>\n",
       "      <td>95.201</td>\n",
       "      <td>4</td>\n",
       "      <td>hip hop</td>\n",
       "      <td>0</td>\n",
       "      <td>1</td>\n",
       "      <td>0</td>\n",
       "      <td>0</td>\n",
       "      <td>0</td>\n",
       "    </tr>\n",
       "  </tbody>\n",
       "</table>\n",
       "</div>"
      ],
      "text/plain": [
       "                        danceability  energy  key  loudness  mode  \\\n",
       "track_id                                                            \n",
       "3Ti0GdlrotgwsAVBBugv0I         0.848   0.666    0    -6.547     1   \n",
       "1w29UTa5uUvIri2tWtZ12Y         0.862   0.642    6   -13.652     0   \n",
       "0IVAlb0cFCH1cQ974iR1TU         0.782   0.589    1    -4.827     1   \n",
       "48ZUwXrEOhaXLCxvmRYhZv         0.737   0.890    4    -8.443     1   \n",
       "30oTS7bm0aH3p7lqjEIu8q         0.875   0.745    1    -5.878     1   \n",
       "\n",
       "                        speechiness  acousticness  instrumentalness  liveness  \\\n",
       "track_id                                                                        \n",
       "3Ti0GdlrotgwsAVBBugv0I        0.274       0.17300          0.000699    0.1290   \n",
       "1w29UTa5uUvIri2tWtZ12Y        0.101       0.10200          0.000000    0.2720   \n",
       "0IVAlb0cFCH1cQ974iR1TU        0.189       0.14800          0.000000    0.1640   \n",
       "48ZUwXrEOhaXLCxvmRYhZv        0.158       0.00556          0.001710    0.0801   \n",
       "30oTS7bm0aH3p7lqjEIu8q        0.269       0.02270          0.000002    0.2870   \n",
       "\n",
       "                        valence    tempo  time_signature    genre  edm  \\\n",
       "track_id                                                                 \n",
       "3Ti0GdlrotgwsAVBBugv0I    0.744   96.662               4  hip hop    0   \n",
       "1w29UTa5uUvIri2tWtZ12Y    0.765   99.201               4  hip hop    0   \n",
       "0IVAlb0cFCH1cQ974iR1TU    0.869   90.438               4  hip hop    0   \n",
       "48ZUwXrEOhaXLCxvmRYhZv    0.809  105.848               4  hip hop    0   \n",
       "30oTS7bm0aH3p7lqjEIu8q    0.749   95.201               4  hip hop    0   \n",
       "\n",
       "                        hip hop  pop  rock  trap  \n",
       "track_id                                          \n",
       "3Ti0GdlrotgwsAVBBugv0I        1    0     0     0  \n",
       "1w29UTa5uUvIri2tWtZ12Y        1    0     0     0  \n",
       "0IVAlb0cFCH1cQ974iR1TU        1    0     0     0  \n",
       "48ZUwXrEOhaXLCxvmRYhZv        1    0     0     0  \n",
       "30oTS7bm0aH3p7lqjEIu8q        1    0     0     0  "
      ]
     },
     "execution_count": 71,
     "metadata": {},
     "output_type": "execute_result"
    }
   ],
   "source": [
    "combined_df.head()"
   ]
  },
  {
   "cell_type": "code",
   "execution_count": 104,
   "metadata": {},
   "outputs": [],
   "source": [
    "X_train, X_test, y_train, y_test = train_test_split(combined_df.drop(['genre','edm','hip hop','pop','rock','trap'],axis=1), \n",
    "                                                    combined_df['hip hop'], test_size=0.30, \n",
    "                                                    random_state=101)"
   ]
  },
  {
   "cell_type": "code",
   "execution_count": 105,
   "metadata": {},
   "outputs": [
    {
     "name": "stderr",
     "output_type": "stream",
     "text": [
      "C:\\Users\\Joe\\Anaconda3\\lib\\site-packages\\sklearn\\linear_model\\logistic.py:432: FutureWarning: Default solver will be changed to 'lbfgs' in 0.22. Specify a solver to silence this warning.\n",
      "  FutureWarning)\n"
     ]
    },
    {
     "data": {
      "text/plain": [
       "LogisticRegression(C=1.0, class_weight=None, dual=False, fit_intercept=True,\n",
       "                   intercept_scaling=1, l1_ratio=None, max_iter=100,\n",
       "                   multi_class='warn', n_jobs=None, penalty='l2',\n",
       "                   random_state=None, solver='warn', tol=0.0001, verbose=0,\n",
       "                   warm_start=False)"
      ]
     },
     "execution_count": 105,
     "metadata": {},
     "output_type": "execute_result"
    }
   ],
   "source": [
    "# instantiate the Logistic Regression model and fit the training data to the model\n",
    "logmodel = LogisticRegression()\n",
    "logmodel.fit(X_train,y_train)"
   ]
  },
  {
   "cell_type": "code",
   "execution_count": 106,
   "metadata": {},
   "outputs": [],
   "source": [
    "# predict the outcomes for the test data\n",
    "log_predict = logmodel.predict(X_test)"
   ]
  },
  {
   "cell_type": "code",
   "execution_count": 108,
   "metadata": {},
   "outputs": [
    {
     "name": "stdout",
     "output_type": "stream",
     "text": [
      "              precision    recall  f1-score   support\n",
      "\n",
      "           0       0.86      0.98      0.92       119\n",
      "           1       0.86      0.39      0.53        31\n",
      "\n",
      "    accuracy                           0.86       150\n",
      "   macro avg       0.86      0.69      0.73       150\n",
      "weighted avg       0.86      0.86      0.84       150\n",
      "\n"
     ]
    }
   ],
   "source": [
    "print(classification_report(y_test,log_predict))"
   ]
  },
  {
   "cell_type": "markdown",
   "metadata": {},
   "source": [
    "## Use recursive feature elimination to down-select model features"
   ]
  },
  {
   "cell_type": "code",
   "execution_count": 109,
   "metadata": {},
   "outputs": [
    {
     "name": "stdout",
     "output_type": "stream",
     "text": [
      "[ True  True False  True  True  True  True  True False  True False False]\n",
      "[1 1 4 1 1 1 1 1 5 1 2 3]\n"
     ]
    }
   ],
   "source": [
    "rfe_logmodel = LogisticRegression()\n",
    "\n",
    "estimator = SVR(kernel=\"linear\")\n",
    "\n",
    "rfe = RFE(estimator, 8)\n",
    "rfe = rfe.fit(X_train,y_train)\n",
    "print(rfe.support_)\n",
    "print(rfe.ranking_)"
   ]
  },
  {
   "cell_type": "code",
   "execution_count": 110,
   "metadata": {},
   "outputs": [
    {
     "data": {
      "text/plain": [
       "Index(['danceability', 'energy', 'key', 'loudness', 'mode', 'speechiness',\n",
       "       'acousticness', 'instrumentalness', 'liveness', 'valence', 'tempo',\n",
       "       'time_signature', 'genre', 'edm', 'hip hop', 'pop', 'rock', 'trap'],\n",
       "      dtype='object')"
      ]
     },
     "execution_count": 110,
     "metadata": {},
     "output_type": "execute_result"
    }
   ],
   "source": [
    "combined_df.columns"
   ]
  },
  {
   "cell_type": "code",
   "execution_count": 111,
   "metadata": {},
   "outputs": [
    {
     "name": "stdout",
     "output_type": "stream",
     "text": [
      "Optimization terminated successfully.\n",
      "         Current function value: inf\n",
      "         Iterations 7\n",
      "                         Results: Logit\n",
      "================================================================\n",
      "Model:               Logit             Pseudo R-squared:  inf   \n",
      "Dependent Variable:  hip hop           AIC:               inf   \n",
      "Date:                2020-07-21 20:51  BIC:               inf   \n",
      "No. Observations:    500               Log-Likelihood:    -inf  \n",
      "Df Model:            7                 LL-Null:           0.0000\n",
      "Df Residuals:        492               LLR p-value:       1.0000\n",
      "Converged:           1.0000            Scale:             1.0000\n",
      "No. Iterations:      7.0000                                     \n",
      "----------------------------------------------------------------\n",
      "                  Coef.  Std.Err.    z    P>|z|   [0.025  0.975]\n",
      "----------------------------------------------------------------\n",
      "danceability     -0.7841   0.7119 -1.1014 0.2707 -2.1794  0.6112\n",
      "energy           -3.3842   0.6445 -5.2505 0.0000 -4.6475 -2.1209\n",
      "loudness         -0.0355   0.0430 -0.8264 0.4086 -0.1198  0.0487\n",
      "mode             -0.8621   0.2648 -3.2558 0.0011 -1.3810 -0.3431\n",
      "speechiness      12.5022   1.3453  9.2935 0.0000  9.8655 15.1388\n",
      "acousticness     -1.1524   0.8233 -1.3998 0.1616 -2.7659  0.4612\n",
      "instrumentalness -0.6496   1.6789 -0.3869 0.6988 -3.9403  2.6411\n",
      "liveness         -0.7960   0.8337 -0.9548 0.3397 -2.4301  0.8380\n",
      "================================================================\n",
      "\n"
     ]
    },
    {
     "name": "stderr",
     "output_type": "stream",
     "text": [
      "C:\\Users\\Joe\\Anaconda3\\lib\\site-packages\\statsmodels\\discrete\\discrete_model.py:1789: RuntimeWarning: divide by zero encountered in log\n",
      "  return np.sum(np.log(self.cdf(q*np.dot(X,params))))\n",
      "C:\\Users\\Joe\\Anaconda3\\lib\\site-packages\\statsmodels\\base\\model.py:492: HessianInversionWarning: Inverting hessian failed, no bse or cov_params available\n",
      "  'available', HessianInversionWarning)\n",
      "C:\\Users\\Joe\\Anaconda3\\lib\\site-packages\\statsmodels\\base\\model.py:492: HessianInversionWarning: Inverting hessian failed, no bse or cov_params available\n",
      "  'available', HessianInversionWarning)\n"
     ]
    }
   ],
   "source": [
    "rfe_features = ['danceability','energy','loudness','mode','speechiness',\n",
    "                     'acousticness','instrumentalness','liveness']\n",
    "X=combined_df[rfe_features]\n",
    "y=combined_df['hip hop']\n",
    "\n",
    "logit_model=sm.Logit(y,X)\n",
    "result=logit_model.fit()\n",
    "print(result.summary2())"
   ]
  },
  {
   "cell_type": "code",
   "execution_count": 112,
   "metadata": {},
   "outputs": [
    {
     "name": "stdout",
     "output_type": "stream",
     "text": [
      "Optimization terminated successfully.\n",
      "         Current function value: inf\n",
      "         Iterations 7\n",
      "                       Results: Logit\n",
      "=============================================================\n",
      "Model:              Logit            Pseudo R-squared: inf   \n",
      "Dependent Variable: hip hop          AIC:              inf   \n",
      "Date:               2020-07-21 20:51 BIC:              inf   \n",
      "No. Observations:   500              Log-Likelihood:   -inf  \n",
      "Df Model:           2                LL-Null:          0.0000\n",
      "Df Residuals:       497              LLR p-value:      1.0000\n",
      "Converged:          1.0000           Scale:            1.0000\n",
      "No. Iterations:     7.0000                                   \n",
      "-------------------------------------------------------------\n",
      "               Coef.  Std.Err.    z    P>|z|   [0.025  0.975]\n",
      "-------------------------------------------------------------\n",
      "energy        -4.0877   0.4108 -9.9500 0.0000 -4.8929 -3.2825\n",
      "mode          -0.9373   0.2543 -3.6861 0.0002 -1.4356 -0.4389\n",
      "speechiness   11.9898   1.2428  9.6475 0.0000  9.5540 14.4256\n",
      "=============================================================\n",
      "\n"
     ]
    },
    {
     "name": "stderr",
     "output_type": "stream",
     "text": [
      "C:\\Users\\Joe\\Anaconda3\\lib\\site-packages\\statsmodels\\discrete\\discrete_model.py:1789: RuntimeWarning: divide by zero encountered in log\n",
      "  return np.sum(np.log(self.cdf(q*np.dot(X,params))))\n",
      "C:\\Users\\Joe\\Anaconda3\\lib\\site-packages\\statsmodels\\base\\model.py:492: HessianInversionWarning: Inverting hessian failed, no bse or cov_params available\n",
      "  'available', HessianInversionWarning)\n",
      "C:\\Users\\Joe\\Anaconda3\\lib\\site-packages\\statsmodels\\base\\model.py:492: HessianInversionWarning: Inverting hessian failed, no bse or cov_params available\n",
      "  'available', HessianInversionWarning)\n"
     ]
    }
   ],
   "source": [
    "# remove variables with a P value greater than 0.05 (not statistically significant)\n",
    "relevant_features = ['energy','mode','speechiness']\n",
    "X=combined_df[relevant_features]\n",
    "y=combined_df['hip hop']\n",
    "\n",
    "logit_model=sm.Logit(y,X)\n",
    "result=logit_model.fit()\n",
    "print(result.summary2())"
   ]
  },
  {
   "cell_type": "code",
   "execution_count": 119,
   "metadata": {},
   "outputs": [
    {
     "name": "stdout",
     "output_type": "stream",
     "text": [
      "Accuracy of logistic regression classifier on test set: 0.79\n"
     ]
    },
    {
     "name": "stderr",
     "output_type": "stream",
     "text": [
      "C:\\Users\\Joe\\Anaconda3\\lib\\site-packages\\sklearn\\linear_model\\logistic.py:432: FutureWarning: Default solver will be changed to 'lbfgs' in 0.22. Specify a solver to silence this warning.\n",
      "  FutureWarning)\n"
     ]
    }
   ],
   "source": [
    "X_train, X_test, y_train, y_test = train_test_split(X, y, test_size=0.3, random_state=0)\n",
    "logreg = LogisticRegression()\n",
    "logreg.fit(X_train, y_train)\n",
    "\n",
    "y_pred = logreg.predict(X_test)\n",
    "print('Accuracy of logistic regression classifier on test set: {:.2f}'.format(logreg.score(X_test, y_test)))"
   ]
  },
  {
   "cell_type": "code",
   "execution_count": 121,
   "metadata": {},
   "outputs": [
    {
     "ename": "TypeError",
     "evalue": "'numpy.ndarray' object is not callable",
     "output_type": "error",
     "traceback": [
      "\u001b[1;31m---------------------------------------------------------------------------\u001b[0m",
      "\u001b[1;31mTypeError\u001b[0m                                 Traceback (most recent call last)",
      "\u001b[1;32m<ipython-input-121-0c1f547a8d30>\u001b[0m in \u001b[0;36m<module>\u001b[1;34m\u001b[0m\n\u001b[1;32m----> 1\u001b[1;33m \u001b[0mprint\u001b[0m\u001b[1;33m(\u001b[0m\u001b[0mconfusion_matrix\u001b[0m\u001b[1;33m(\u001b[0m\u001b[0my_test\u001b[0m\u001b[1;33m,\u001b[0m \u001b[0my_pred\u001b[0m\u001b[1;33m)\u001b[0m\u001b[1;33m)\u001b[0m\u001b[1;33m\u001b[0m\u001b[1;33m\u001b[0m\u001b[0m\n\u001b[0m",
      "\u001b[1;31mTypeError\u001b[0m: 'numpy.ndarray' object is not callable"
     ]
    }
   ],
   "source": [
    "print(confusion_matrix(y_test, y_pred))"
   ]
  },
  {
   "cell_type": "code",
   "execution_count": 117,
   "metadata": {},
   "outputs": [
    {
     "name": "stdout",
     "output_type": "stream",
     "text": [
      "              precision    recall  f1-score   support\n",
      "\n",
      "           0       0.80      0.98      0.88       121\n",
      "           1       0.00      0.00      0.00        29\n",
      "\n",
      "    accuracy                           0.79       150\n",
      "   macro avg       0.40      0.49      0.44       150\n",
      "weighted avg       0.65      0.79      0.71       150\n",
      "\n"
     ]
    }
   ],
   "source": [
    "print(classification_report(y_test,y_pred))"
   ]
  },
  {
   "cell_type": "code",
   "execution_count": null,
   "metadata": {},
   "outputs": [],
   "source": []
  }
 ],
 "metadata": {
  "kernelspec": {
   "display_name": "Python 3",
   "language": "python",
   "name": "python3"
  },
  "language_info": {
   "codemirror_mode": {
    "name": "ipython",
    "version": 3
   },
   "file_extension": ".py",
   "mimetype": "text/x-python",
   "name": "python",
   "nbconvert_exporter": "python",
   "pygments_lexer": "ipython3",
   "version": "3.7.4"
  }
 },
 "nbformat": 4,
 "nbformat_minor": 2
}
